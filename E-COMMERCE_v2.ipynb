{
 "cells": [
  {
   "cell_type": "markdown",
   "execution_count": null,
   "id": "c4a5914b-d580-45ea-95d2-71ca2ea9c1fc",
   "metadata": {},
   "outputs": [],
   "source": [
    "BIBLIOTECAS"
   ]
  },
  {
   "cell_type": "code",
   "execution_count": null,
   "id": "456bf25b-69f3-4aa4-a610-07e76c21aef4",
   "metadata": {},
   "outputs": [],
   "source": [
    "import pandas as pd\n",
    "import seaborn as sns\n",
    "import numpy as np\n",
    "import matplotlib.pyplot as plt\n",
    "import plotly.graph_objects as go\n",
    "import plotly.express as px"
   ]
  },
  {
   "cell_type": "code",
   "execution_count": null,
   "id": "547395e0-1d52-4335-8fff-cfc5a180e245",
   "metadata": {},
   "outputs": [],
   "source": [
    "df_2_v = pd.read_csv('VENDAS_CLIENTE_VENDEDOR_CIDADE.csv')"
   ]
  },
  {
   "cell_type": "markdown",
   "execution_count": null,
   "id": "991f6606-4477-4d26-a58c-7c5fe1098566",
   "metadata": {},
   "outputs": [],
   "source": [
    "VERIFICANDO DATASET"
   ]
  },
  {
   "cell_type": "code",
   "execution_count": null,
   "id": "df964ca2-e64b-4fe7-8fbe-f34a5ae25fa1",
   "metadata": {},
   "outputs": [],
   "source": [
    "df_2_v.head(10)"
   ]
  },
  {
   "cell_type": "code",
   "execution_count": null,
   "id": "4556af57-f6fe-4743-a3d9-31d93875daad",
   "metadata": {},
   "outputs": [],
   "source": [
    "df_2_v['estado'].unique()"
   ]
  },
  {
   "cell_type": "code",
   "execution_count": null,
   "id": "cc7de9f0-ebc7-449a-a4d1-dc2f20738910",
   "metadata": {},
   "outputs": [],
   "source": [
    "df_2_v.info()"
   ]
  },
  {
   "cell_type": "markdown",
   "execution_count": null,
   "id": "647b3233-18a8-4042-8711-f23b54f3104e",
   "metadata": {},
   "outputs": [],
   "source": [
    "Verificando as colunas com linhas em branco"
   ]
  },
  {
   "cell_type": "code",
   "execution_count": null,
   "id": "45a6e1ac-1b1a-45f3-902a-223776bbd67b",
   "metadata": {},
   "outputs": [],
   "source": [
    "df_2_v.isnull().sum()"
   ]
  },
  {
   "cell_type": "markdown",
   "execution_count": null,
   "id": "4ac6583d-f600-4ec8-a23c-6b63ef5dcc56",
   "metadata": {},
   "outputs": [],
   "source": [
    "Substituindo nas colunas 'estado', 'latitude' e 'longitude' valores 'NaN' por 'Não encontrado'"
   ]
  },
  {
   "cell_type": "code",
   "execution_count": null,
   "id": "7bbb7d12-8413-4842-b814-3fadcabb1f12",
   "metadata": {},
   "outputs": [],
   "source": [
    "df_2_v['estado'] = df_2_v['estado'].fillna(\"Não Encontrado\")"
   ]
  },
  {
   "cell_type": "code",
   "execution_count": null,
   "id": "741acc87-1d9d-49ae-8876-c7553eb7c84a",
   "metadata": {},
   "outputs": [],
   "source": [
    "df_2_v['latitude'] = df_2_v['latitude'].fillna(\"Não Econtrado\")"
   ]
  },
  {
   "cell_type": "code",
   "execution_count": null,
   "id": "35571426-a395-48ef-a206-1c5273bf13e9",
   "metadata": {},
   "outputs": [],
   "source": [
    "df_2_v['longitude'] = df_2_v['longitude'].fillna(\"Não Econtrado\")"
   ]
  },
  {
   "cell_type": "markdown",
   "execution_count": null,
   "id": "a3c0accb-00ca-41e2-8ce8-4f6b55e9e320",
   "metadata": {},
   "outputs": [],
   "source": [
    "Transformando a coluna de DIA em uma coluna formato de data"
   ]
  },
  {
   "cell_type": "code",
   "execution_count": null,
   "id": "f3e3c345-d4e4-43bc-b593-6563890e56e1",
   "metadata": {},
   "outputs": [],
   "source": [
    "df_2_v['DIA'] = pd.to_datetime(df_2_v['DIA'], errors='coerce')"
   ]
  },
  {
   "cell_type": "markdown",
   "execution_count": null,
   "id": "48ef77b3-77b9-4b7b-83fa-5602117de68b",
   "metadata": {},
   "outputs": [],
   "source": [
    "agrupando as informações para não sofrer impacto das duplicadas"
   ]
  },
  {
   "cell_type": "code",
   "execution_count": null,
   "id": "75fc6936-b44b-4db8-bd30-41542dc46460",
   "metadata": {},
   "outputs": [],
   "source": [
    "df_pedidos = df_2_v.groupby(\"pedido\", as_index=False).agg({\n",
    "    \"faturamento\": \"first\",\n",
    "    \"vendedor\": \"first\",\n",
    "    \"cliente\": \"first\",\n",
    "    \"estado\": \"first\",\n",
    "    \"latitude\": \"first\",\n",
    "    \"longitude\": \"first\"\n",
    "})"
   ]
  },
  {
   "cell_type": "markdown",
   "execution_count": null,
   "id": "ad2a6f8f-d67f-4621-993c-5ab8f482ba38",
   "metadata": {},
   "outputs": [],
   "source": [
    "1. Faturamento, ticket_medido e total de pedidos por clientes"
   ]
  },
  {
   "cell_type": "code",
   "execution_count": null,
   "id": "2bb5e561-6979-43e6-b2e8-21591308a366",
   "metadata": {},
   "outputs": [],
   "source": [
    "cliente_stats = (\n",
    "    df_pedidos.groupby(\"cliente\")\n",
    "    .agg(\n",
    "        faturamento_total=(\"faturamento\", \"sum\"),\n",
    "        ticket_medio=(\"faturamento\", \"mean\")\n",
    "    )\n",
    "    .reset_index()\n",
    "    .sort_values(by=\"faturamento_total\", ascending=False)\n",
    ")"
   ]
  },
  {
   "cell_type": "code",
   "execution_count": null,
   "id": "da3fc685-11ee-46ea-8712-bd25e7479052",
   "metadata": {},
   "outputs": [],
   "source": [
    "# Criar tabela estilizada com Plotly\n",
    "cliente_stats = cliente_stats[cliente_stats['cliente'] != \"Não Encontrado\"]\n",
    "fig = go.Figure(\n",
    "    data=[go.Table(\n",
    "        header=dict(\n",
    "            values=[\"<b>Cliente</b>\", \"<b>Faturamento (R$)</b>\", \"<b>Ticket Médio</b>\"],\n",
    "            fill_color=\"royalblue\",\n",
    "            font=dict(color=\"white\", size=14),\n",
    "            align=\"center\"\n",
    "        ),\n",
    "        cells=dict(\n",
    "            values=[\n",
    "                cliente_stats['cliente'],\n",
    "                cliente_stats['faturamento_total'],\n",
    "                cliente_stats['ticket_medio']\n",
    "            ],\n",
    "            fill_color=[[\"lavender\", \"white\"] * (len(df_faturamento)//2 + 1)],\n",
    "            align=\"center\",\n",
    "            font=dict(size=12),\n",
    "            format=[\"\", \",.2f\", \",d\"]  # duas casas para faturamento e inteiro p/ pedidos\n",
    "        )\n",
    "    )]\n",
    ")\n",
    "\n",
    "# Ajustar layout\n",
    "fig.update_layout(\n",
    "    title=\"Faturamento, ticket médio e total de pedidos por cliente\",\n",
    "    title_x=0.5,\n",
    "    width=1200,\n",
    "    height=800\n",
    ")\n",
    "\n",
    "fig.show()"
   ]
  },
  {
   "cell_type": "markdown",
   "execution_count": null,
   "id": "0a28002c-51cc-4c8a-84f4-4be60e7f649d",
   "metadata": {},
   "outputs": [],
   "source": [
    "2. Tota de faturamento, ticket médio e total de pedidos por vendedor"
   ]
  },
  {
   "cell_type": "code",
   "execution_count": null,
   "id": "d30f6041-f608-4d66-bc72-e16a6d4c9430",
   "metadata": {},
   "outputs": [],
   "source": [
    "vendedor_stats = df_pedidos.groupby(\"vendedor\").agg(\n",
    "    faturamento_total=(\"faturamento\", \"sum\"),\n",
    "    total_pedidos=(\"pedido\", \"count\"),\n",
    "    ticket_medio=(\"faturamento\", \"mean\")\n",
    ").reset_index().sort_values(by='faturamento_total', ascending=False)"
   ]
  },
  {
   "cell_type": "code",
   "execution_count": null,
   "id": "f9da5093-180c-49ff-a0e1-dc041e2c9732",
   "metadata": {},
   "outputs": [],
   "source": [
    "# Criar tabela estilizada com Plotly\n",
    "vendedor_stats = vendedor_stats[vendedor_stats['vendedor'] != \"Não Encontrado\"]\n",
    "fig = go.Figure(\n",
    "    data=[go.Table(\n",
    "        header=dict(\n",
    "            values=[\"<b>Vendedor</b>\", \"<b>Faturamento (R$)</b>\", \"<b>Total de Pedidos</b>\", \"<b>Ticket Médio</b>\"],\n",
    "            fill_color=\"royalblue\",\n",
    "            font=dict(color=\"white\", size=14),\n",
    "            align=\"center\"\n",
    "        ),\n",
    "        cells=dict(\n",
    "            values=[\n",
    "                vendedor_stats['vendedor'],\n",
    "                vendedor_stats['faturamento_total'],\n",
    "                vendedor_stats['total_pedidos'],\n",
    "                vendedor_stats['ticket_medio']\n",
    "            ],\n",
    "            fill_color=[[\"lavender\", \"white\"] * (len(df_faturamento)//2 + 1)],\n",
    "            align=\"center\",\n",
    "            font=dict(size=12),\n",
    "            format=[\"\", \",.2f\", \",d\"]  # duas casas para faturamento e inteiro p/ pedidos\n",
    "        )\n",
    "    )]\n",
    ")\n",
    "\n",
    "# Ajustar layout\n",
    "fig.update_layout(\n",
    "    title=\"Faturamento, ticket médio e total de pedidos por Vendedor\",\n",
    "    title_x=0.5,\n",
    "    width=1200,\n",
    "    height=800\n",
    ")\n",
    "\n",
    "fig.show()"
   ]
  },
  {
   "cell_type": "markdown",
   "execution_count": null,
   "id": "65866e27-51ca-467d-a904-f67297114604",
   "metadata": {},
   "outputs": [],
   "source": [
    "3. Faturamento e total de pedidos por estado"
   ]
  },
  {
   "cell_type": "code",
   "execution_count": null,
   "id": "3cc5caba-2232-4369-b10a-5e81f5c6c8ee",
   "metadata": {},
   "outputs": [],
   "source": [
    "estado_stats = df_pedidos.groupby(\"estado\").agg(\n",
    "    faturamento_total=(\"faturamento\", \"sum\"),\n",
    "    total_pedidos=(\"pedido\", \"count\"),\n",
    "    ticket_medio=(\"faturamento\", \"mean\")\n",
    ").reset_index().sort_values(by='faturamento_total', ascending=False)"
   ]
  },
  {
   "cell_type": "code",
   "execution_count": null,
   "id": "9e8c0b46-c420-48b6-8594-c6e3bc304803",
   "metadata": {},
   "outputs": [],
   "source": [
    "import pandas as pd\n",
    "import seaborn as sns\n",
    "import matplotlib.pyplot as plt\n",
    "\n",
    "# Remover estados inválidos\n",
    "estado_stats = estado_stats[estado_stats['estado'] != \"Não Encontrado\"]\n",
    "\n",
    "# Selecionar os top 10 estados por faturamento\n",
    "top_estados = estado_stats.sort_values(by='faturamento_total', ascending=False).head(5)\n",
    "\n",
    "# Ordenar para o gráfico horizontal (de baixo pra cima)\n",
    "top_estados = top_estados.sort_values(by='faturamento_total', ascending=False)\n",
    "\n",
    "# Normalizar para mapa de cores\n",
    "norm = plt.Normalize(top_estados['faturamento_total'].min(), top_estados['faturamento_total'].max())\n",
    "colors = plt.cm.viridis(norm(top_estados['faturamento_total']))  # ou qualquer outro colormap\n",
    "\n",
    "# Função para formatar valores em mil ou milhões\n",
    "def format_milhar_milhao(valor):\n",
    "    if valor >= 1_000_000:\n",
    "        return f'{valor / 1_000_000:.1f} mi'\n",
    "    else:\n",
    "        return f'{valor / 1_000:.1f} mil'\n",
    "\n",
    "# Plot\n",
    "plt.figure(figsize=(12, 7))\n",
    "ax = sns.barplot(\n",
    "    x='faturamento_total',\n",
    "    y='estado',\n",
    "    data=top_estados,\n",
    "    palette=colors\n",
    ")\n",
    "\n",
    "# Adicionar rótulos nas barras\n",
    "for i, (valor, estado) in enumerate(zip(top_estados['faturamento_total'], top_estados['estado'])):\n",
    "    ax.text(\n",
    "        valor + 0.02 * top_estados['faturamento_total'].max(),  # deslocamento horizontal\n",
    "        i,  # posição vertical\n",
    "        format_milhar_milhao(valor),\n",
    "        va='center',\n",
    "        fontsize=10,\n",
    "        color='black'\n",
    "    )\n",
    "\n",
    "# Ajustes de layout\n",
    "plt.title('Top 10 Estados por Faturamento', fontsize=16)\n",
    "plt.xlabel('Faturamento')\n",
    "plt.ylabel('Estado')\n",
    "plt.grid(axis='x', linestyle='--', alpha=0.4)\n",
    "\n",
    "# Aumentar o limite do eixo X para dar espaço aos rótulos\n",
    "plt.xlim(0, top_estados['faturamento_total'].max() * 1.15)\n",
    "\n",
    "plt.tight_layout()\n",
    "plt.show()\n"
   ]
  },
  {
   "cell_type": "markdown",
   "execution_count": null,
   "id": "61f5154b-3e80-4bc5-8fea-628ff6fb1226",
   "metadata": {},
   "outputs": [],
   "source": [
    "Como pode ser visto o estado com maior faturamento foi o estado de São Paulo com quase 10 milhões em vendas"
   ]
  },
  {
   "cell_type": "markdown",
   "execution_count": null,
   "id": "a3f5e11c-ef06-403a-b7ee-049f06cc1849",
   "metadata": {},
   "outputs": [],
   "source": [
    "4. Mapa de faturamento por região"
   ]
  },
  {
   "cell_type": "code",
   "execution_count": null,
   "id": "5ac27fa2-125c-490c-b133-afa8aa47f277",
   "metadata": {},
   "outputs": [],
   "source": [
    "import plotly.express as px\n",
    "\n",
    "# Consolidar faturamento único por pedido\n",
    "df_pedidos = df_2_v.groupby(\"pedido\", as_index=False).agg({\n",
    "    \"faturamento\": \"first\",\n",
    "    \"latitude\": \"first\",\n",
    "    \"longitude\": \"first\"\n",
    "})\n",
    "\n",
    "# Mapa com bolas quentes\n",
    "mapa_bolhas = px.scatter_mapbox(\n",
    "    df_pedidos,\n",
    "    lat=\"latitude\",\n",
    "    lon=\"longitude\",\n",
    "    size=\"faturamento\",              \n",
    "    color=\"faturamento\",             \n",
    "    color_continuous_scale=\"OrRd\",   # laranja → vermelho\n",
    "    hover_data={\"faturamento\": True},\n",
    "    zoom=3,\n",
    "    center={\"lat\": -15.8, \"lon\": -47.9},  \n",
    "    height=700,\n",
    "    width=1000,\n",
    "    title=\"Faturamento por Região\"\n",
    ")\n",
    "\n",
    "# Ajustar escala de tamanho\n",
    "mapa_bolhas.update_traces(\n",
    "    marker=dict(\n",
    "        sizemode=\"area\",   # mantém proporção pela área da bolha\n",
    "        sizeref=2.*max(df_pedidos[\"faturamento\"])/(40.**2),  # controla bolha máxima\n",
    "        sizemin=3          # tamanho mínimo\n",
    "    )\n",
    ")\n",
    "\n",
    "# Estilo do mapa\n",
    "mapa_bolhas.update_layout(mapbox_style=\"open-street-map\")\n",
    "\n",
    "mapa_bolhas.show()\n"
   ]
  },
  {
   "cell_type": "markdown",
   "execution_count": null,
   "id": "32d1a141-7f65-4ca9-b248-cdb96d8fc918",
   "metadata": {},
   "outputs": [],
   "source": [
    "Como pode ser visto a região sudeste e centro oeste e suldeste do pais foram as que lideraram em vendas"
   ]
  }
 ],
 "metadata": {
  "kernelspec": {
   "display_name": "Python 3 (ipykernel)",
   "language": "python",
   "name": "python3"
  },
  "language_info": {
   "codemirror_mode": {
    "name": "ipython",
    "version": 3
   },
   "file_extension": ".py",
   "mimetype": "text/x-python",
   "name": "python",
   "nbconvert_exporter": "python",
   "pygments_lexer": "ipython3",
   "version": "3.11.4"
  }
 },
 "nbformat": 4,
 "nbformat_minor": 5
}
